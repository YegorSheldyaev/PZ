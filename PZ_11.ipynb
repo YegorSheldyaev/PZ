{
  "nbformat": 4,
  "nbformat_minor": 0,
  "metadata": {
    "colab": {
      "name": "Untitled0.ipynb",
      "provenance": [],
      "authorship_tag": "ABX9TyPelE8im0YIagOGoexaS3nl",
      "include_colab_link": true
    },
    "kernelspec": {
      "name": "python3",
      "display_name": "Python 3"
    },
    "language_info": {
      "name": "python"
    }
  },
  "cells": [
    {
      "cell_type": "markdown",
      "metadata": {
        "id": "view-in-github",
        "colab_type": "text"
      },
      "source": [
        "<a href=\"https://colab.research.google.com/github/YegorSheldyaev/PZ_REPORT/blob/main/PZ_11.ipynb\" target=\"_parent\"><img src=\"https://colab.research.google.com/assets/colab-badge.svg\" alt=\"Open In Colab\"/></a>"
      ]
    },
    {
      "cell_type": "code",
      "execution_count": 2,
      "metadata": {
        "colab": {
          "base_uri": "https://localhost:8080/"
        },
        "id": "B4LKYnJsf-7i",
        "outputId": "a3d1eefb-14b4-4577-f2b4-ef4d11f226eb"
      },
      "outputs": [
        {
          "output_type": "stream",
          "name": "stdout",
          "text": [
            "Введите целое число для стороны a5\n",
            "Введите целое число для стороны b5\n",
            "Введите целое число для стороны c5\n",
            "Треугольник равносторонний\n"
          ]
        }
      ],
      "source": [
        "#Даны целые числа a, b, c, являющиеся сторонами некоторого треугольника.\n",
        "# Проверьте истинность высказывания:\"Треугольник со сторонами a, b, c, является равносторонним\".\n",
        "\n",
        "a = input(\"Введите целое число для стороны a\")\n",
        "\n",
        "while type(a) != int:#Проверка\n",
        "    try:\n",
        "        a = int(a)\n",
        "    except ValueError:\n",
        "        print(\"Неправильно ввели!\")\n",
        "        a = input(\"Введите целое число для стороны a\")\n",
        "\n",
        "b = input(\"Введите целое число для стороны b\")\n",
        "\n",
        "while type(b) != int:#Проверка\n",
        "    try:\n",
        "        b = int(b)\n",
        "    except ValueError:\n",
        "        print(\"Неправильно ввели!\")\n",
        "        b = input(\"Введите целое число для стороны b\")\n",
        "\n",
        "c = input(\"Введите целое число для стороны c\")\n",
        "\n",
        "while type(c) != int:#Проверка\n",
        "    try:\n",
        "        c = int(c)\n",
        "    except ValueError:\n",
        "        print(\"Неправильно ввели!\")\n",
        "        c = input(\"Введите целое число для стороны c\")\n",
        "\n",
        "if a == b == c:\n",
        "    print(\"Треугольник равносторонний\")\n",
        "else:\n",
        "    print(\"Треугольник не равносторонний\")"
      ]
    },
    {
      "cell_type": "code",
      "source": [
        "# Дано целое число N(>0). Найти значение выражения 1.1 - 1.2 + 1.3 -...\n",
        "# Условный оператор не использовать.\n",
        "N = int(input(\"Введите целое число > 0 >>>\"))\n",
        "\n",
        "while type(N) != int:  # Проверка\n",
        "    try:\n",
        "        N = int(N)\n",
        "    except ValueError:\n",
        "        print(\"Неправильно ввели!\")\n",
        "        N = input(\"Введите целое число для стороны a\")\n",
        "\n",
        "sum = 0.0\n",
        "for i in range(1, N + 1):\n",
        "    x = (1 + i * 0.1) * (-1) ** (i + 1)\n",
        "    sum += x\n",
        "print(sum)\n"
      ],
      "metadata": {
        "colab": {
          "base_uri": "https://localhost:8080/"
        },
        "id": "JBGbq33CgFoo",
        "outputId": "a6688c3d-ddc3-4ab5-b610-1f6f4353b009"
      },
      "execution_count": 3,
      "outputs": [
        {
          "output_type": "stream",
          "name": "stdout",
          "text": [
            "Введите целое число > 0 >>>5\n",
            "1.3000000000000003\n"
          ]
        }
      ]
    },
    {
      "cell_type": "code",
      "source": [
        "#Описать функцию Minmax(X, Y), записывающую в переменную X минимальное\n",
        "# из значений X и Y, а в переменную Y — максимальное из этих значений\n",
        "# (X и Y — вещественные параметры, являющиеся одновременно входными и выходными).\n",
        "# Используя четыре вызова этой функции, найти минимальное\n",
        "# и максимальное из данных чисел A, B, C, D.\n",
        "\n",
        "a = int(input())\n",
        "b = int(input())\n",
        "c = int(input())\n",
        "d = int(input())\n",
        "\n",
        "m = []\n",
        "n = []\n",
        "\n",
        "def MinMax(x, y):\n",
        "    x = min(x, y)\n",
        "    y = max(x, y)\n",
        "    n.append(x)\n",
        "    m.append(y)\n",
        "\n",
        "MinMax(a,b)\n",
        "MinMax(c,d)\n",
        "\n",
        "print(min(n), max(m))\n"
      ],
      "metadata": {
        "colab": {
          "base_uri": "https://localhost:8080/"
        },
        "id": "KCxgE_gkgKk0",
        "outputId": "72b4fd79-e64a-4ec5-a790-df0892005d0b"
      },
      "execution_count": 14,
      "outputs": [
        {
          "output_type": "stream",
          "name": "stdout",
          "text": [
            "2\n",
            "3\n",
            "2\n",
            "1\n",
            "1 3\n"
          ]
        }
      ]
    }
  ]
}